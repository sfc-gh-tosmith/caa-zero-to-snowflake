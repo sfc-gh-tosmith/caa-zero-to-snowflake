{
 "cells": [
  {
   "cell_type": "markdown",
   "id": "0cb48b43-a58e-4ebb-9c59-46d0d3af086e",
   "metadata": {
    "collapsed": false,
    "name": "Overview"
   },
   "source": [
    "Admin Zero to Snowflake walkthrough\n",
    "\n",
    "Before Running the Notebook, make sure to create a Database with the name Z2S (CREATE OR REPLACE DATABASE Z2S)"
   ]
  },
  {
   "cell_type": "markdown",
   "id": "f619d8a1-e8f7-4cfe-9546-0ee7bfdb9f2c",
   "metadata": {
    "collapsed": false,
    "name": "RBAC_Overview"
   },
   "source": [
    "1. Start by setting up a schema for use throughout the Notebook\n",
    "2. Establish access and functional roles, assigning them to a service and person user\n",
    "3. Confirm correct access of new roles\n",
    "4. Explore different queries that look at role privileges and user roles"
   ]
  },
  {
   "cell_type": "code",
   "execution_count": null,
   "id": "b552a516-ce90-4f25-89fa-57ace86e1a8c",
   "metadata": {
    "language": "sql",
    "name": "RBAC_Setup"
   },
   "outputs": [],
   "source": [
    "USE ROLE ACCOUNTADMIN;\n",
    "\n",
    "CREATE OR REPLACE SCHEMA Z2S.DEMO_FINANCE;\n",
    "\n",
    "CREATE OR REPLACE TABLE Z2S.DEMO_FINANCE.REVENUE_DATA (\n",
    "    REGION VARCHAR(50),\n",
    "    QUARTER VARCHAR(10), \n",
    "    REVENUE DECIMAL(15,2),\n",
    "    CREATED_DATE TIMESTAMP DEFAULT CURRENT_TIMESTAMP()\n",
    ");\n",
    "\n",
    "INSERT INTO Z2S.DEMO_FINANCE.REVENUE_DATA VALUES \n",
    "('North America', 'Q1 2024', 2500000.00, CURRENT_TIMESTAMP()),\n",
    "('Europe', 'Q1 2024', 1800000.00, CURRENT_TIMESTAMP()),\n",
    "('Asia Pacific', 'Q1 2024', 2200000.00, CURRENT_TIMESTAMP());\n",
    "\n",
    "CREATE OR REPLACE TABLE Z2S.DEMO_FINANCE.EMPLOYEE_INFO (\n",
    "    EMPLOYEE_ID INT,\n",
    "    FULL_NAME VARCHAR(100),\n",
    "    DEPARTMENT VARCHAR(50),\n",
    "    SALARY DECIMAL(10,2),\n",
    "    HIRE_DATE DATE\n",
    ");\n",
    "\n",
    "INSERT INTO Z2S.DEMO_FINANCE.EMPLOYEE_INFO VALUES \n",
    "(1001, 'Sarah Johnson', 'Finance', 85000.00, '2023-01-15'),\n",
    "(1002, 'Mike Chen', 'Engineering', 95000.00, '2023-03-20'),\n",
    "(1003, 'Lisa Rodriguez', 'HR', 78000.00, '2023-02-10');"
   ]
  },
  {
   "cell_type": "code",
   "execution_count": null,
   "id": "9422cf92-5215-4755-8e31-670a4bb23643",
   "metadata": {
    "language": "sql",
    "name": "RBAC_AccessRoleCreation"
   },
   "outputs": [],
   "source": [
    "CREATE OR REPLACE ROLE Z2S_DB_FIN_R;\n",
    "GRANT USAGE ON DATABASE Z2S TO ROLE Z2S_DB_FIN_R;\n",
    "GRANT USAGE ON ALL SCHEMAS IN DATABASE Z2S TO ROLE Z2S_DB_FIN_R;\n",
    "GRANT SELECT ON ALL TABLES IN DATABASE Z2S TO ROLE Z2S_DB_FIN_R;\n",
    "\n",
    "CREATE OR REPLACE ROLE Z2S_DB_FIN_RW;\n",
    "GRANT USAGE ON DATABASE Z2S TO ROLE Z2S_DB_FIN_RW;\n",
    "GRANT USAGE ON ALL SCHEMAS IN DATABASE Z2S TO ROLE Z2S_DB_FIN_RW;\n",
    "GRANT SELECT, INSERT, UPDATE, DELETE ON ALL TABLES IN DATABASE Z2S TO ROLE Z2S_DB_FIN_RW;\n",
    "\n",
    "CREATE OR REPLACE ROLE Z2S_COMPUTE_WH;\n",
    "GRANT USAGE ON WAREHOUSE COMPUTE_WH TO ROLE Z2S_COMPUTE_WH;"
   ]
  },
  {
   "cell_type": "code",
   "execution_count": null,
   "id": "4b505d5e-cb48-48b1-a50c-fc02db42e153",
   "metadata": {
    "language": "sql",
    "name": "RBAC_FunctionalRoleCreation"
   },
   "outputs": [],
   "source": [
    "CREATE OR REPLACE ROLE Z2S_FINANCE_ANALYST\n",
    "COMMENT = 'Functional Role for finance team members - access to finance and analytics data';\n",
    "\n",
    "GRANT ROLE Z2S_COMPUTE_WH TO ROLE Z2S_FINANCE_ANALYST;\n",
    "GRANT ROLE Z2S_DB_FIN_RW TO ROLE Z2S_FINANCE_ANALYST;\n",
    "\n",
    "CREATE OR REPLACE ROLE Z2S_HR_MANAGER\n",
    "COMMENT = 'Functional Role for HR team - access to HR and analytics data';\n",
    "\n",
    "GRANT ROLE Z2S_COMPUTE_WH TO ROLE Z2S_HR_MANAGER;\n",
    "GRANT ROLE Z2S_DB_FIN_R TO ROLE Z2S_HR_MANAGER;\n",
    "\n",
    "GRANT ROLE Z2S_FINANCE_ANALYST, Z2S_HR_MANAGER TO ROLE SYSADMIN;"
   ]
  },
  {
   "cell_type": "code",
   "execution_count": null,
   "id": "f48a152c-dc9f-4625-8aea-fa68728d630a",
   "metadata": {
    "language": "sql",
    "name": "RBAC_UserCreation"
   },
   "outputs": [],
   "source": [
    "-- Person User: john_analyst (human user for finance team)\n",
    "CREATE OR REPLACE USER john_analyst\n",
    "LOGIN_NAME = 'john_analyst'\n",
    "PASSWORD = 'TempPassword123!'\n",
    "DEFAULT_ROLE = FINANCE_ANALYST\n",
    "DEFAULT_WAREHOUSE = COMPUTE_WH\n",
    "COMMENT = 'Person user - Finance analyst John Smith'\n",
    "TYPE = PERSON\n",
    "MUST_CHANGE_PASSWORD = TRUE;\n",
    "\n",
    "-- Service User: hr_service_account (automated system/API access)  \n",
    "CREATE OR REPLACE USER hr_service_account\n",
    "COMMENT = 'Service user - HR reporting automation'\n",
    "LOGIN_NAME = 'hr_service_account'\n",
    "TYPE = SERVICE\n",
    "RSA_PUBLIC_KEY='-----BEGIN PUBLIC KEY-----\n",
    "MIIBIjANBgkqhkiG9w0BAQEFAAOCAQ8AMIIBCgKCAQEA855hcbWsi0i8guEOZ79P\n",
    "Acl/FFUQAu2F+W/gnnZNB09u+9PPl7SDG5Fa72WhlAyGeFh0ZiGPm0zWcOHw3JSP\n",
    "hkwMP4jgdKB9xcIVNUtSC3l4a70EF32dEdZLab63jJSp6UN9FYX4SzTXyIkTyB2V\n",
    "Uuxf04naxzLUUGKuZWQiH9v5WCTQUN/MXNVHSVL75HMBCk5ysLDX776KyrKJGE9H\n",
    "/bA1WtPHSe7/6Iy4rhsnLDXkHey+niUdwuqZjVUXxIH+/2zY98EwxFt9xxYszZSf\n",
    "I8X6OBARJIWd4/6ykK+2TQ5MvjgXXeOwvbemA//bic+RXhkXbzAvOfi1lJrC3rbL\n",
    "swIDAQAB\n",
    "-----END PUBLIC KEY-----';"
   ]
  },
  {
   "cell_type": "code",
   "execution_count": null,
   "id": "817a858a-443d-4dc5-b8f1-6dd82d1583ce",
   "metadata": {
    "language": "sql",
    "name": "RBAC_UserRoleAssignment"
   },
   "outputs": [],
   "source": [
    "GRANT ROLE Z2S_FINANCE_ANALYST TO USER john_analyst;\n",
    "GRANT ROLE Z2S_HR_MANAGER TO USER hr_service_account;"
   ]
  },
  {
   "cell_type": "code",
   "execution_count": null,
   "id": "88347f53-8f4a-4aba-857c-d31a827472b3",
   "metadata": {
    "language": "sql",
    "name": "RBAC_RoleTesting"
   },
   "outputs": [],
   "source": [
    "USE ROLE Z2S_FINANCE_ANALYST;\n",
    "\n",
    "SELECT 'ANALYST ACCESS TEST' AS test_type, REGION, QUARTER, REVENUE\n",
    "FROM Z2S.DEMO_FINANCE.REVENUE_DATA;"
   ]
  },
  {
   "cell_type": "code",
   "execution_count": null,
   "id": "a9205be7-31a6-4886-b041-df037f085374",
   "metadata": {
    "language": "sql",
    "name": "RBAC_BackToAccountAdmin"
   },
   "outputs": [],
   "source": [
    "USE ROLE ACCOUNTADMIN;"
   ]
  },
  {
   "cell_type": "code",
   "execution_count": null,
   "id": "2a057dc7-1c1f-4a25-aa31-c37a6523b38a",
   "metadata": {
    "language": "sql",
    "name": "RBAC_MonitorAccessPrivileges"
   },
   "outputs": [],
   "source": [
    "SHOW GRANTS TO ROLE Z2S_FINANCE_ANALYST;\n",
    "-- SHOW GRANTS TO USER JOHN_ANALYST;"
   ]
  },
  {
   "cell_type": "code",
   "execution_count": null,
   "id": "f204c898-e802-4376-bfbf-84304b9f7359",
   "metadata": {
    "language": "sql",
    "name": "RBAC_DirectAccessGrants"
   },
   "outputs": [],
   "source": [
    "SELECT * FROM SNOWFLAKE.ACCOUNT_USAGE.GRANTS_TO_ROLES\n",
    "  WHERE granted_to = 'USER';"
   ]
  },
  {
   "cell_type": "markdown",
   "id": "991375e1-352c-4189-80cf-9b1a73493d4c",
   "metadata": {
    "collapsed": false,
    "name": "Compute_Overview"
   },
   "source": [
    "1. Setup a default warehouse and go through t-shirt sizing\n",
    "2. Show altering of warehouse sizing\n",
    "3. Create a multi-cluster warehouse\n",
    "4. Create a Gen2 Warehouse\n",
    "5. Connecting a Resource Monitor to a Warehouse"
   ]
  },
  {
   "cell_type": "code",
   "execution_count": null,
   "id": "568cee6a-b360-40de-b781-69d3811e668a",
   "metadata": {
    "language": "sql",
    "name": "Compute_Setup"
   },
   "outputs": [],
   "source": [
    "CREATE OR REPLACE WAREHOUSE z2s_sizing_wh\n",
    "    WAREHOUSE_SIZE = 'X-SMALL'          -- 1 credit/hour - smallest size\n",
    "    AUTO_SUSPEND = 300                  -- Suspend after 5 minutes of inactivity\n",
    "    AUTO_RESUME = TRUE                  -- Automatically resume when queries submitted\n",
    "    INITIALLY_SUSPENDED = TRUE          -- Start in suspended state\n",
    "    COMMENT = 'Demo warehouse for showing size scaling';"
   ]
  },
  {
   "cell_type": "code",
   "execution_count": null,
   "id": "52927e14-13cf-4123-84e4-40897f46f56a",
   "metadata": {
    "language": "sql",
    "name": "Compute_Resizing"
   },
   "outputs": [],
   "source": [
    "ALTER WAREHOUSE z2s_sizing_wh SET WAREHOUSE_SIZE = 'LARGE';\n",
    "SELECT 'Resized to LARGE - 8 credits/hour' AS status;"
   ]
  },
  {
   "cell_type": "code",
   "execution_count": null,
   "id": "2fcab289-9409-40f2-bc5a-5e7041ecd6dd",
   "metadata": {
    "language": "sql",
    "name": "Compute_MultiCluster"
   },
   "outputs": [],
   "source": [
    "-- Multi-cluster warehouses provide automatic scaling for concurrency\n",
    "-- Available in Enterprise Edition and higher\n",
    "\n",
    "-- SCALING_POLICY Options:\n",
    "-- 1. STANDARD (default): \n",
    "--    - Aggressively starts new clusters to minimize query queuing\n",
    "--    - Prioritizes performance over cost\n",
    "--    - Starts clusters immediately when queries queue\n",
    "--    - Best for latency-sensitive workloads\n",
    "--\n",
    "-- 2. ECONOMY:\n",
    "--    - Conserves credits by keeping running clusters fully loaded\n",
    "--    - Only starts new clusters when existing ones are at capacity\n",
    "--    - May result in some queuing but reduces costs\n",
    "--    - Best for batch workloads where slight delays are acceptable\n",
    "CREATE OR REPLACE WAREHOUSE z2s_multicluster_standard_wh\n",
    "    WAREHOUSE_SIZE = 'LARGE'\n",
    "    MIN_CLUSTER_COUNT = 1               -- Always keep 1 cluster running\n",
    "    MAX_CLUSTER_COUNT = 5               -- Scale up to 5 clusters max\n",
    "    SCALING_POLICY = 'STANDARD'         -- Minimize queuing by starting clusters quickly\n",
    "    AUTO_SUSPEND = 60                   -- Suspend after 1 minute (aggressive cost control)\n",
    "    AUTO_RESUME = TRUE\n",
    "    INITIALLY_SUSPENDED = TRUE\n",
    "    COMMENT = 'Multi-cluster warehouse with STANDARD scaling - prioritizes performance';"
   ]
  },
  {
   "cell_type": "code",
   "execution_count": null,
   "id": "3681d236-dcfe-4fa5-af73-c613e405a72e",
   "metadata": {
    "language": "sql",
    "name": "Compute_Gen2"
   },
   "outputs": [],
   "source": [
    "CREATE OR REPLACE WAREHOUSE z2s_gen2_wh\n",
    "    WAREHOUSE_SIZE = 'MEDIUM'\n",
    "    RESOURCE_CONSTRAINT = 'STANDARD_GEN_2'    -- Specify Gen2 capabilities\n",
    "    AUTO_SUSPEND = 120                          -- Suspend after 2 minutes\n",
    "    AUTO_RESUME = TRUE\n",
    "    INITIALLY_SUSPENDED = TRUE\n",
    "    COMMENT = 'Generation 2 standard warehouse with enhanced performance';"
   ]
  },
  {
   "cell_type": "code",
   "execution_count": null,
   "id": "60637898-3cc4-4099-bc77-564d7029292f",
   "metadata": {
    "language": "sql",
    "name": "Compute_ResourceMonitor"
   },
   "outputs": [],
   "source": [
    "CREATE OR REPLACE RESOURCE MONITOR z2s_warehouse_monitor\n",
    "    WITH \n",
    "    CREDIT_QUOTA = 100                          -- Monthly credit limit\n",
    "    FREQUENCY = MONTHLY                         -- Reset quota monthly\n",
    "    START_TIMESTAMP = IMMEDIATELY               -- Start monitoring now\n",
    "    TRIGGERS \n",
    "        ON 50 PERCENT DO NOTIFY                 -- Send notification at 50% usage\n",
    "        ON 75 PERCENT DO NOTIFY                 -- Send notification at 75% usage\n",
    "        ON 90 PERCENT DO SUSPEND                -- Suspend warehouses at 90% (graceful)\n",
    "        ON 100 PERCENT DO SUSPEND_IMMEDIATE;    -- Immediately suspend at 100%\n",
    "\n",
    "ALTER WAREHOUSE z2s_sizing_wh SET RESOURCE_MONITOR = z2s_warehouse_monitor;"
   ]
  },
  {
   "cell_type": "markdown",
   "id": "87246cce-b1ff-4496-a5d1-8ecb74826092",
   "metadata": {
    "collapsed": false,
    "name": "Caching_Overview"
   },
   "source": [
    "### Caching ###\n",
    "1. Results Cache: Whenever Snowflake executes a SELECT query, the results returned to the end-user are stored and immediately returned by subsequent queries . While this may seem pointless, it significantly affects query performance, primarily when queries run from dashboards or business intelligence applications where the query text is unchanged. This means (for example) that when a complex query is executed, which can take minutes to complete, subsequent executions return results within milliseconds. Like other Snowflake features, this cache is managed automatically and is cleared whenever the underlying data changes, so users are always given a correct, consistent result. One of the benefits of fetching data from the results cache is that the executing query doesn't need a virtual warehouse. In addition to improving query performance, this can also reduce costs.\n",
    "2. Metadata Cache: Metadata stored about the table, which includes count, min, and max. This will not engage a virtual warehouse\n",
    "3. Virtual Warehouse Cache: Each node in the warehouse has dedicated memory and SSD for caching data. This cache is wiped clean when a warehouse is suspended. Data here is aged out on an least recently used(LRU) basis"
   ]
  },
  {
   "cell_type": "markdown",
   "id": "3254e6d6-1e3f-4721-87f8-70b9fc04fc34",
   "metadata": {
    "collapsed": false,
    "name": "Caching_ResultsCache_Overview"
   },
   "source": [
    "Criteria for Results Cache\n",
    "Must match exactly, this includes casing\n",
    "\n",
    "The query does not include non-reusable functions, which return different results for successive runs of the same query. UUID_STRING, RANDOM, and RANDSTR are good examples of non-reusable functions.\n",
    "\n",
    "The query does not include external functions.\n",
    "\n",
    "The query does not select from hybrid tables.\n",
    "\n",
    "The table data contributing to the query result has not changed.\n",
    "\n",
    "The persisted result for the previous query is still available.\n",
    "\n",
    "The role accessing the cached results has the required privileges.\n",
    "\n",
    "If the query was a SELECT query, the role executing the query must have the necessary access privileges for all the tables used in the cached query.\n",
    "\n",
    "If the query was a SHOW query, the role executing the query must match the role that generated the cached results.\n",
    "\n",
    "Any configuration options that affect how the result was produced have not changed.\n",
    "\n",
    "The table’s micro-partitions have not changed (e.g. been reclustered or consolidated) due to changes to other data in the table."
   ]
  },
  {
   "cell_type": "code",
   "execution_count": null,
   "id": "4a556520-e227-435a-bc35-fb0770920330",
   "metadata": {
    "language": "sql",
    "name": "Caching_ResultsCache_Example"
   },
   "outputs": [],
   "source": [
    "SELECT * FROM Z2S.DEMO_FINANCE.REVENUE_DATA;\n",
    "SELECT * FROM Z2S.DEMO_FINANCE.REVENUE_DATA;\n",
    "SELECT * FROM Z2S.DEMO_FINANCE.REVENUE_DATA rd;\n",
    "select * FROM Z2S.DEMO_FINANCE.REVENUE_DATA;"
   ]
  },
  {
   "cell_type": "code",
   "execution_count": null,
   "id": "3da37d38-6653-4bb5-bc4a-6879af78a364",
   "metadata": {
    "language": "sql",
    "name": "Caching_MetadataCache_Example"
   },
   "outputs": [],
   "source": [
    "SELECT COUNT(*) FROM Z2S.DEMO_FINANCE.EMPLOYEE_INFO;\n",
    "SELECT MAX(SALARY) FROM Z2S.DEMO_FINANCE.EMPLOYEE_INFO;\n",
    "SELECT MIN(SALARY) FROM Z2S.DEMO_FINANCE.EMPLOYEE_INFO;"
   ]
  },
  {
   "cell_type": "markdown",
   "id": "ef3497a5-7983-46c7-bc21-383b65bd8bec",
   "metadata": {
    "collapsed": false,
    "name": "Caching_WarehouseCache_Overview"
   },
   "source": [
    "Examples of how to do warehouse suspension to benefit from the Warehouse Cache:\n",
    "- **ETL/ELT and Loading Operations**: Immediate suspension is typically optimal since these workloads don't benefit significantly from cache retention\n",
    "- **Business Intelligence and SELECT Operations**: Approximately 10-minute suspension delays are cost-optimal to maintain warm caches for end users\n",
    "- **Development and Data Science Workloads**: Around 5-minute suspension delays provide the best balance"
   ]
  },
  {
   "cell_type": "code",
   "execution_count": null,
   "id": "f3d0f955-d4d7-49b5-ab3c-5d5445dd7548",
   "metadata": {
    "language": "sql",
    "name": "Caching_WarehouseCache_Examples"
   },
   "outputs": [],
   "source": [
    "SELECT * FROM Z2S.DEMO_FINANCE.REVENUE_DATA WHERE REVENUE > 2000000;\n",
    "SELECT * FROM Z2S.DEMO_FINANCE.REVENUE_DATA WHERE REVENUE > 2000000 OR REGION = 'Europe';"
   ]
  },
  {
   "cell_type": "markdown",
   "id": "35e20c24-cd01-494f-bcf9-6c8472ca929c",
   "metadata": {
    "collapsed": false,
    "name": "CostManagement_Overview"
   },
   "source": [
    "1. Difference between Information Schema and Account Usage in querying\n",
    "2. Service Type Consumption Example Query\n",
    "3. Weekly Usage Example Query"
   ]
  },
  {
   "cell_type": "code",
   "execution_count": null,
   "id": "bf3a33eb-ef61-430a-bc19-3d41a64c7d74",
   "metadata": {
    "language": "sql",
    "name": "CostManagement_ServiceTypeConsumption"
   },
   "outputs": [],
   "source": [
    "SELECT \n",
    "    service_type,\n",
    "    SUM(credits_used) AS total_credits,\n",
    "    ROUND(SUM(credits_used) / \n",
    "        SUM(SUM(credits_used)) OVER(), 4) * 100 AS pct_of_total_credits,\n",
    "    AVG(credits_used) AS avg_daily_credits,\n",
    "    MAX(credits_used) AS max_daily_credits,\n",
    "    COUNT(DISTINCT usage_date) AS days_with_usage\n",
    "FROM SNOWFLAKE.ACCOUNT_USAGE.METERING_DAILY_HISTORY \n",
    "WHERE usage_date >= DATEADD('day', -30, CURRENT_DATE())\n",
    "    AND usage_date < CURRENT_DATE()\n",
    "GROUP BY service_type\n",
    "ORDER BY total_credits DESC;"
   ]
  },
  {
   "cell_type": "code",
   "execution_count": null,
   "id": "1d63c266-bea4-48dc-8f3a-20ac1f6b88d3",
   "metadata": {
    "language": "sql",
    "name": "CostManagement_WeeklyUsage"
   },
   "outputs": [],
   "source": [
    "SELECT \n",
    "    DATE_TRUNC('WEEK', usage_date) AS week_start,\n",
    "    SUM(credits_used) AS weekly_credits,\n",
    "    LAG(SUM(credits_used)) OVER (ORDER BY DATE_TRUNC('WEEK', usage_date)) AS previous_week_credits,\n",
    "    ROUND((SUM(credits_used) - LAG(SUM(credits_used)) OVER (ORDER BY DATE_TRUNC('WEEK', usage_date))) / \n",
    "        NULLIF(LAG(SUM(credits_used)) OVER (ORDER BY DATE_TRUNC('WEEK', usage_date)), 0) * 100, 2) AS week_over_week_change_pct\n",
    "FROM SNOWFLAKE.ACCOUNT_USAGE.METERING_DAILY_HISTORY \n",
    "WHERE usage_date >= DATEADD('day', -60, CURRENT_DATE())\n",
    "    AND usage_date < CURRENT_DATE()\n",
    "GROUP BY DATE_TRUNC('WEEK', usage_date)\n",
    "ORDER BY week_start DESC;"
   ]
  },
  {
   "cell_type": "markdown",
   "id": "dc01445e-5cbe-4d69-a6c1-dd45b6a89e0f",
   "metadata": {
    "collapsed": false,
    "name": "DataGovernance_Overview"
   },
   "source": [
    "1. Setup Schema for storing Governance related Tags and Policies\n",
    "2. Create Tags and Assign them to Columns\n",
    "3. Setup Column Security\n",
    "4. Setup Row Access Policies with Table Reference\n",
    "5. Confirm Policy Application"
   ]
  },
  {
   "cell_type": "code",
   "execution_count": null,
   "id": "f6076dc1-ff4d-4d0f-b751-ee3dc325bd6f",
   "metadata": {
    "language": "sql",
    "name": "DataGovernance_Setup"
   },
   "outputs": [],
   "source": [
    "CREATE OR REPLACE SCHEMA Z2S.GOVERNANCE;\n",
    "\n",
    "CREATE OR REPLACE TABLE Z2S.DEMO_FINANCE.EMPLOYEES_PII (\n",
    "    employee_id NUMBER(10,0),\n",
    "    first_name VARCHAR(50),\n",
    "    last_name VARCHAR(50),\n",
    "    email VARCHAR(100),\n",
    "    ssn VARCHAR(11),\n",
    "    salary NUMBER(10,2),\n",
    "    department VARCHAR(50),\n",
    "    region VARCHAR(20),\n",
    "    hire_date DATE,\n",
    "    manager_id NUMBER(10,0),\n",
    "    phone VARCHAR(15)\n",
    ");\n",
    "\n",
    "INSERT INTO Z2S.DEMO_FINANCE.EMPLOYEES_PII VALUES\n",
    "(1001, 'John', 'Smith', 'john.smith@company.com', '123-45-6789', 85000.00, 'HR', 'NORTH', '2020-01-15', NULL, '555-0101'),\n",
    "(1002, 'Sarah', 'Johnson', 'sarah.johnson@company.com', '234-56-7890', 92000.00, 'SALES', 'SOUTH', '2019-03-20', NULL, '555-0102'),\n",
    "(1003, 'Mike', 'Brown', 'mike.brown@company.com', '345-67-8901', 78000.00, 'HR', 'EAST', '2021-06-10', 1001, '555-0103'),\n",
    "(1004, 'Lisa', 'Davis', 'lisa.davis@company.com', '456-78-9012', 105000.00, 'SALES', 'WEST', '2018-11-05', 1002, '555-0104'),\n",
    "(1005, 'Tom', 'Wilson', 'tom.wilson@company.com', '567-89-0123', 67000.00, 'HR', 'CENTRAL', '2022-02-28', 1001, '555-0105'),\n",
    "(1006, 'Amy', 'Taylor', 'amy.taylor@company.com', '678-90-1234', 89000.00, 'SALES', 'NORTH', '2020-08-12', 1002, '555-0106'),\n",
    "(1007, 'David', 'Miller', 'david.miller@company.com', '789-01-2345', 72000.00, 'HR', 'SOUTH', '2021-12-03', 1001, '555-0107'),\n",
    "(1008, 'Jennifer', 'Garcia', 'jennifer.garcia@company.com', '890-12-3456', 98000.00, 'SALES', 'EAST', '2019-07-18', 1002, '555-0108');\n",
    "\n",
    "CREATE OR REPLACE TABLE Z2S.DEMO_FINANCE.CUSTOMERS_PII (\n",
    "    customer_id NUMBER(10,0),\n",
    "    company_name VARCHAR(100),\n",
    "    contact_first_name VARCHAR(50),\n",
    "    contact_last_name VARCHAR(50),\n",
    "    contact_email VARCHAR(100),\n",
    "    contact_phone VARCHAR(15),\n",
    "    region VARCHAR(20),\n",
    "    annual_revenue NUMBER(15,2),\n",
    "    created_date DATE,\n",
    "    account_manager_id NUMBER(10,0)\n",
    ");\n",
    "\n",
    "INSERT INTO Z2S.DEMO_FINANCE.CUSTOMERS_PII VALUES\n",
    "(2001, 'Tech Corp Inc', 'Robert', 'Anderson', 'r.anderson@techcorp.com', '555-1001', 'NORTH', 2500000.00, '2020-01-10', 1002),\n",
    "(2002, 'Global Systems LLC', 'Maria', 'Rodriguez', 'm.rodriguez@globalsys.com', '555-1002', 'SOUTH', 1800000.00, '2020-03-15', 1004),\n",
    "(2003, 'Innovation Labs', 'James', 'Thompson', 'j.thompson@innovlabs.com', '555-1003', 'EAST', 3200000.00, '2019-11-20', 1006),\n",
    "(2004, 'Future Solutions', 'Linda', 'White', 'l.white@futuresol.com', '555-1004', 'WEST', 1200000.00, '2021-02-05', 1008),\n",
    "(2005, 'Smart Technologies', 'Christopher', 'Lee', 'c.lee@smarttech.com', '555-1005', 'CENTRAL', 2100000.00, '2020-09-12', 1002);\n",
    "\n",
    "GRANT SELECT ON TABLE Z2S.DEMO_FINANCE.EMPLOYEES_PII TO ROLE Z2S_DB_FIN_R;\n",
    "GRANT SELECT, INSERT, UPDATE, DELETE ON TABLE Z2S.DEMO_FINANCE.EMPLOYEES_PII TO ROLE Z2S_DB_FIN_RW;\n",
    "\n",
    "GRANT SELECT ON TABLE Z2S.DEMO_FINANCE.CUSTOMERS_PII TO ROLE Z2S_DB_FIN_R;\n",
    "GRANT SELECT, INSERT, UPDATE, DELETE ON TABLE Z2S.DEMO_FINANCE.CUSTOMERS_PII TO ROLE Z2S_DB_FIN_RW;"
   ]
  },
  {
   "cell_type": "code",
   "execution_count": null,
   "id": "9bb6fa7a-e4f2-42dd-a0b9-fe559452f490",
   "metadata": {
    "language": "sql",
    "name": "DataGovernance_SetupTagging"
   },
   "outputs": [],
   "source": [
    "CREATE TAG IF NOT EXISTS Z2S.GOVERNANCE.PII_LEVEL\n",
    "  ALLOWED_VALUES 'HIGH', 'MEDIUM', 'LOW';\n",
    "\n",
    "CREATE TAG IF NOT EXISTS Z2S.GOVERNANCE.DATA_CLASSIFICATION\n",
    "  ALLOWED_VALUES 'SENSITIVE', 'CONFIDENTIAL', 'INTERNAL', 'PUBLIC';\n",
    "\n",
    "CREATE TAG IF NOT EXISTS Z2S.GOVERNANCE.DEPARTMENT\n",
    "  ALLOWED_VALUES 'HR', 'SALES', 'FINANCE', 'IT';"
   ]
  },
  {
   "cell_type": "code",
   "execution_count": null,
   "id": "69f411c7-c17d-45f6-b003-8efae7e28e7f",
   "metadata": {
    "language": "sql",
    "name": "DataGovernance_ObjectTagging"
   },
   "outputs": [],
   "source": [
    "ALTER TABLE Z2S.DEMO_FINANCE.EMPLOYEES_PII SET TAG Z2S.GOVERNANCE.DATA_CLASSIFICATION = 'SENSITIVE';\n",
    "ALTER TABLE Z2S.DEMO_FINANCE.EMPLOYEES_PII SET TAG Z2S.GOVERNANCE.DEPARTMENT = 'HR';\n",
    "\n",
    "ALTER TABLE Z2S.DEMO_FINANCE.EMPLOYEES_PII ALTER COLUMN SSN SET TAG Z2S.GOVERNANCE.PII_LEVEL = 'HIGH';\n",
    "ALTER TABLE Z2S.DEMO_FINANCE.EMPLOYEES_PII ALTER COLUMN EMAIL SET TAG Z2S.GOVERNANCE.PII_LEVEL = 'LOW';\n",
    "ALTER TABLE Z2S.DEMO_FINANCE.EMPLOYEES_PII ALTER COLUMN SALARY SET TAG Z2S.GOVERNANCE.PII_LEVEL = 'HIGH';\n",
    "\n",
    "ALTER TABLE Z2S.DEMO_FINANCE.CUSTOMERS_PII SET TAG Z2S.GOVERNANCE.DATA_CLASSIFICATION = 'CONFIDENTIAL';\n",
    "ALTER TABLE Z2S.DEMO_FINANCE.CUSTOMERS_PII SET TAG Z2S.GOVERNANCE.DEPARTMENT = 'SALES';\n",
    "\n",
    "ALTER TABLE Z2S.DEMO_FINANCE.CUSTOMERS_PII ALTER COLUMN CONTACT_EMAIL SET TAG Z2S.GOVERNANCE.PII_LEVEL = 'MEDIUM';\n",
    "ALTER TABLE Z2S.DEMO_FINANCE.CUSTOMERS_PII ALTER COLUMN CONTACT_PHONE SET TAG Z2S.GOVERNANCE.PII_LEVEL = 'MEDIUM';"
   ]
  },
  {
   "cell_type": "code",
   "execution_count": null,
   "id": "08c9d375-d902-4f19-bb02-4cb1d9b650c1",
   "metadata": {
    "language": "sql",
    "name": "DataGovernance_ColumnSecurity"
   },
   "outputs": [],
   "source": [
    "CREATE OR REPLACE MASKING POLICY Z2S.GOVERNANCE.PII_MASK AS (val string) RETURNS string ->\n",
    "  CASE\n",
    "    WHEN CURRENT_ROLE() IN ('ACCOUNTADMIN') THEN val\n",
    "    WHEN SYSTEM$GET_TAG_ON_CURRENT_COLUMN('Z2S.GOVERNANCE.PII_LEVEL') = 'LOW' THEN '***' || RIGHT(val, 5)\n",
    "    WHEN SYSTEM$GET_TAG_ON_CURRENT_COLUMN('Z2S.GOVERNANCE.PII_LEVEL') = 'MEDIUM' THEN '********' || RIGHT(val, 2)\n",
    "    ELSE '************'\n",
    "  END;\n",
    "\n",
    "CREATE OR REPLACE MASKING POLICY Z2S.GOVERNANCE.PHONE_MASK AS (val string) RETURNS string ->\n",
    "  CASE\n",
    "    WHEN CURRENT_ROLE() IN ('ACCOUNTADMIN') THEN val\n",
    "    ELSE 'XXX-XXXX'\n",
    "  END;\n",
    "\n",
    "CREATE OR REPLACE MASKING POLICY Z2S.GOVERNANCE.REVENUE_MASK AS (val number) RETURNS number ->\n",
    "  CASE\n",
    "    WHEN CURRENT_ROLE() IN ('Z2S_FINANCE_ANALYST', 'ACCOUNTADMIN') THEN val\n",
    "    WHEN CURRENT_ROLE() IN ('Z2S_HR_MANAGER') THEN ROUND(val, -4) -- Round to nearest 10k\n",
    "    ELSE NULL\n",
    "  END;"
   ]
  },
  {
   "cell_type": "code",
   "execution_count": null,
   "id": "7a1fe21e-680f-49e7-83c0-2582e3420582",
   "metadata": {
    "language": "sql",
    "name": "DataGovernance_ApplyColumnSecurity"
   },
   "outputs": [],
   "source": [
    "ALTER TAG Z2S.GOVERNANCE.PII_LEVEL SET MASKING POLICY Z2S.GOVERNANCE.PII_MASK;\n",
    "ALTER TABLE Z2S.DEMO_FINANCE.EMPLOYEES_PII ALTER COLUMN PHONE SET MASKING POLICY Z2S.GOVERNANCE.PHONE_MASK;\n",
    "\n",
    "ALTER TABLE Z2S.DEMO_FINANCE.CUSTOMERS_PII ALTER COLUMN ANNUAL_REVENUE SET MASKING POLICY Z2S.GOVERNANCE.REVENUE_MASK;"
   ]
  },
  {
   "cell_type": "code",
   "execution_count": null,
   "id": "7d4f9624-5889-489d-966e-075a5b026d05",
   "metadata": {
    "language": "sql",
    "name": "DataGovernance_SetupRowAccess"
   },
   "outputs": [],
   "source": [
    "CREATE OR REPLACE TABLE Z2S.GOVERNANCE.HR_MANAGER_REGIONS (\n",
    "    manager_role VARCHAR(50),\n",
    "    region VARCHAR(20)\n",
    ");\n",
    "\n",
    "INSERT INTO Z2S.GOVERNANCE.HR_MANAGER_REGIONS VALUES\n",
    "('Z2S_HR_MANAGER', 'NORTH'),\n",
    "('Z2S_HR_MANAGER', 'SOUTH');\n",
    "\n",
    "CREATE OR REPLACE TABLE Z2S.GOVERNANCE.FINANCE_ANALYST_REGIONS (\n",
    "    manager_role VARCHAR(50),\n",
    "    region VARCHAR(20)\n",
    ");\n",
    "\n",
    "INSERT INTO Z2S.GOVERNANCE.FINANCE_ANALYST_REGIONS VALUES\n",
    "('Z2S_FINANCE_ANALYST', 'EAST'),\n",
    "('Z2S_FINANCE_ANALYST', 'WEST');\n",
    "\n",
    "GRANT SELECT ON TABLE Z2S.GOVERNANCE.HR_MANAGER_REGIONS TO ROLE Z2S_DB_FIN_R;\n",
    "GRANT SELECT, INSERT, UPDATE, DELETE ON TABLE Z2S.GOVERNANCE.FINANCE_ANALYST_REGIONS TO ROLE Z2S_DB_FIN_RW;"
   ]
  },
  {
   "cell_type": "code",
   "execution_count": null,
   "id": "6826f9a9-7c5a-482c-8e7f-4bba396b9c3e",
   "metadata": {
    "language": "sql",
    "name": "DataGovernance_CreateRowPolicies"
   },
   "outputs": [],
   "source": [
    "CREATE OR REPLACE ROW ACCESS POLICY Z2S.GOVERNANCE.EMPLOYEE_REGION_POLICY AS (EMPLOYEE_REGION varchar) RETURNS BOOLEAN ->\n",
    "  CASE\n",
    "    WHEN CURRENT_ROLE() IN ('ACCOUNTADMIN') THEN TRUE\n",
    "    WHEN CURRENT_ROLE() = 'Z2S_HR_MANAGER' THEN \n",
    "      EXISTS (\n",
    "        SELECT 1 FROM Z2S.GOVERNANCE.HR_MANAGER_REGIONS \n",
    "        WHERE MANAGER_ROLE = CURRENT_ROLE() AND REGION = EMPLOYEE_REGION\n",
    "      )\n",
    "    ELSE FALSE\n",
    "  END;\n",
    "\n",
    "CREATE OR REPLACE ROW ACCESS POLICY Z2S.GOVERNANCE.CUSTOMER_REGION_POLICY AS (CUSTOMER_REGION varchar) RETURNS BOOLEAN ->\n",
    "  CASE\n",
    "    WHEN CURRENT_ROLE() IN ('ACCOUNTADMIN') THEN TRUE\n",
    "    WHEN CURRENT_ROLE() = 'Z2S_FINANCE_ANALYST' THEN \n",
    "      EXISTS (\n",
    "        SELECT 1 FROM Z2S.GOVERNANCE.FINANCE_ANALYST_REGIONS \n",
    "        WHERE MANAGER_ROLE = CURRENT_ROLE() AND region = CUSTOMER_REGION\n",
    "      )\n",
    "    ELSE FALSE\n",
    "  END;"
   ]
  },
  {
   "cell_type": "code",
   "execution_count": null,
   "id": "a89e7886-c98c-4403-b759-cee93d322eec",
   "metadata": {
    "language": "sql",
    "name": "DataGovernance_ApplyRowPolicies"
   },
   "outputs": [],
   "source": [
    "ALTER TABLE Z2S.DEMO_FINANCE.EMPLOYEES_PII ADD ROW ACCESS POLICY Z2S.GOVERNANCE.EMPLOYEE_REGION_POLICY ON (REGION);\n",
    "\n",
    "ALTER TABLE Z2S.DEMO_FINANCE.CUSTOMERS_PII ADD ROW ACCESS POLICY Z2S.GOVERNANCE.CUSTOMER_REGION_POLICY ON (REGION);"
   ]
  },
  {
   "cell_type": "code",
   "execution_count": null,
   "id": "f54ff88d-72f1-4ff8-893d-9c1286b56c0b",
   "metadata": {
    "language": "sql",
    "name": "cell1"
   },
   "outputs": [],
   "source": [
    "USE ROLE ACCOUNTADMIN;\n",
    "SELECT * FROM Z2S.DEMO_FINANCE.EMPLOYEES_PII;"
   ]
  },
  {
   "cell_type": "code",
   "execution_count": null,
   "id": "801921b1-8ab4-4d3c-b5ea-5d03d3d170ad",
   "metadata": {
    "language": "sql",
    "name": "DataGovernance_HRView"
   },
   "outputs": [],
   "source": [
    "USE ROLE Z2S_HR_MANAGER;\n",
    "SELECT * FROM Z2S.DEMO_FINANCE.EMPLOYEES_PII;"
   ]
  },
  {
   "cell_type": "code",
   "execution_count": null,
   "id": "9649a69f-5a0f-4f5b-b099-621b7bdda9d4",
   "metadata": {
    "language": "sql",
    "name": "DataGovernance_FinanceAnalystView"
   },
   "outputs": [],
   "source": [
    "USE ROLE Z2S_FINANCE_ANALYST;\n",
    "\n",
    "SELECT * FROM Z2S.DEMO_FINANCE.CUSTOMERS_PII;"
   ]
  }
 ],
 "metadata": {
  "kernelspec": {
   "display_name": "Streamlit Notebook",
   "name": "streamlit"
  },
  "lastEditStatus": {
   "authorEmail": "dexter.stephens@snowflake.com",
   "authorId": "2604475314212",
   "authorName": "DSTEPHENS",
   "lastEditTime": 1754062634609,
   "notebookId": "3rarqlksmqap6nhmr4yq",
   "sessionId": "10fa4e20-3d57-4e94-98f9-ade0615442bd"
  }
 },
 "nbformat": 4,
 "nbformat_minor": 5
}
