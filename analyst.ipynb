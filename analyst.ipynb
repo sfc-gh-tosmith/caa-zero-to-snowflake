{
 "metadata": {
  "kernelspec": {
   "display_name": "base",
   "language": "python",
   "name": "python3"
  },
  "language_info": {
   "codemirror_mode": {
    "name": "ipython",
    "version": 3
   },
   "file_extension": ".py",
   "mimetype": "text/x-python",
   "name": "python",
   "nbconvert_exporter": "python",
   "pygments_lexer": "ipython3",
   "version": "3.12.9"
  },
  "lastEditStatus": {
   "notebookId": "wnad2x4dobzoijf6tvpa",
   "authorId": "3695467180546",
   "authorName": "TOSMITH",
   "authorEmail": "tom.smith@snowflake.com",
   "sessionId": "5a2674dc-4cb0-4223-a6d8-6ddd093b6472",
   "lastEditTime": 1754335455768
  }
 },
 "nbformat_minor": 2,
 "nbformat": 4,
 "cells": [
  {
   "cell_type": "markdown",
   "metadata": {
    "vscode": {
     "languageId": "raw"
    },
    "name": "Analyst_Overview",
    "collapsed": false
   },
   "source": "# Overview of Snowflake Getting Started Lab Script\n\nThis script demonstrates core Snowflake features through a hands-on lab following the [Getting Started with Snowflake Quickstart](https://quickstarts.snowflake.com/guide/getting_started_with_snowflake/index.html) tutorial. It covers essential concepts that make Snowflake unique in the cloud data platform landscape.\n\n## Key learning objectives:\n1. Loading structured data (CSV files) using Snowflake's native data loading capabilities\n2. Working with semi-structured data (JSON) using Snowflake's VARIANT data type\n3. Accessing external data through Snowflake Marketplace\n4. Understanding Snowflake's automatic query result caching\n5. Exploring zero-copy cloning for instant data copies\n6. Using Time Travel for data recovery and historical analysis\n7. Managing security with roles and privileges\n8. Data sharing capabilities unique to Snowflake\n\n## Unique Snowflake Features Highlighted:\n- VARIANT data type for semi-structured data (JSON, XML, Avro, etc.)\n- Automatic query result caching without configuration\n- AISQL for easy, secure analytics on unstructured data with LLMs\n- Zero-copy cloning for instant table/database copies\n- Time Travel for accessing historical data states\n- Native cloud architecture with separation of compute and storage\n- Snowflake Marketplace for accessing third-party data\n- Secure data sharing without data movement\n\n## Use Command+F to search for sections using the following markers:\n- SECTION: STRUCTURED DATA LOADING\n- SECTION: SEMI-STRUCTURED DATA\n- SECTION: MARKETPLACE DATA\n- SECTION: QUERYING AND CACHING\n- SECTION: TIME TRAVEL\n- SECTION: SECURITY AND ROLES\n- SECTION: DATA SHARING\n- SECTION: CLEANUP\n",
   "id": "ce110000-1111-2222-3333-ffffff000000"
  },
  {
   "cell_type": "markdown",
   "metadata": {
    "vscode": {
     "languageId": "raw"
    },
    "name": "QuickStart_Reference"
   },
   "source": [
    "This notebook follows the [\"Getting Started with Snowflake Quickstart\"](https://quickstarts.snowflake.com/guide/getting_started_with_snowflake/index.html?index=..%2F..index#5)\n",
    "\n",
    "Steps start at step 5 of the Quickstart\n"
   ],
   "id": "ce110000-1111-2222-3333-ffffff000001"
  },
  {
   "cell_type": "markdown",
   "metadata": {
    "vscode": {
     "languageId": "raw"
    },
    "name": "StructuredLoading_Overview"
   },
   "source": [
    "## SECTION: STRUCTURED DATA LOADING\n",
    "### Step 5. Loading Structured Data into Snowflake: CSVs\n"
   ],
   "id": "ce110000-1111-2222-3333-ffffff000002"
  },
  {
   "cell_type": "code",
   "execution_count": null,
   "metadata": {
    "vscode": {
     "languageId": "sql"
    },
    "name": "StructuredLoading_Setup",
    "language": "sql"
   },
   "outputs": [],
   "source": [
    "-- Create the database in the UI, or use below command\n",
    "CREATE DATABASE CYBERSYN;\n",
    "\n",
    "-- Set context to use CYBERSYN database\n",
    "-- Context setting is important in Snowflake - it establishes the working database/schema\n",
    "use database cybersyn;\n"
   ],
   "id": "ce110000-1111-2222-3333-ffffff000003"
  },
  {
   "cell_type": "code",
   "execution_count": null,
   "metadata": {
    "vscode": {
     "languageId": "sql"
    },
    "name": "StructuredLoading_TableSetup",
    "language": "sql"
   },
   "outputs": [],
   "source": [
    "-- Create table to hold the company metadata\n",
    "-- Note: Snowflake supports standard SQL DDL with additional data types like VARIANT for semi-structured data\n",
    "CREATE OR REPLACE TABLE company_metadata\n",
    "(cybersyn_company_id string,\n",
    "company_name string,\n",
    "permid_security_id string,\n",
    "primary_ticker string,\n",
    "security_name string,\n",
    "asset_class string,\n",
    "primary_exchange_code string,\n",
    "primary_exchange_name string,\n",
    "security_status string,\n",
    "global_tickers variant,        -- VARIANT: Snowflake's unique data type for semi-structured data\n",
    "exchange_code variant,         -- Can store JSON, XML, Avro, ORC, Parquet data natively\n",
    "permid_quote_id variant);\n"
   ],
   "id": "ce110000-1111-2222-3333-ffffff000004"
  },
  {
   "cell_type": "markdown",
   "metadata": {
    "vscode": {
     "languageId": "raw"
    },
    "name": "StructuredLoading_ExternalStage_Setup"
   },
   "source": [
    "Here we use the UI to create an external stage referencing a public S3 bucket. When creating bucket, it's important to note that in a real world scenario, this bucket would be locked down with authentication policies.\n",
    "\n",
    "In the UI, go to Databases > CYBERSYN > Schemas > PUBLIC > Create Stage > Amazon S3\n",
    "- Bucket name: cybersyn_company_metadata\n",
    "- Bucket URL: s3://sfquickstarts/zero_to_snowflake/cybersyn-consumer-company-metadata-csv/\n",
    "- Then click Create\n"
   ],
   "id": "ce110000-1111-2222-3333-ffffff000005"
  },
  {
   "cell_type": "code",
   "id": "23733a82-0dfd-41a2-851a-c9386c81ddc6",
   "metadata": {
    "language": "sql",
    "name": "createMetadataStage"
   },
   "outputs": [],
   "source": "-- Create this stage with UI or with code\nCREATE OR REPLACE STAGE cybersyn_company_metadata\nurl = 's3://sfquickstarts/zero_to_snowflake/cybersyn-consumer-company-metadata-csv/'",
   "execution_count": null
  },
  {
   "cell_type": "code",
   "execution_count": null,
   "metadata": {
    "vscode": {
     "languageId": "sql"
    },
    "name": "StructuredLoading_FileFormat_Setup",
    "language": "sql"
   },
   "outputs": [],
   "source": [
    "-- File Format: Snowflake's way to define how to parse files during loading\n",
    "CREATE OR REPLACE FILE FORMAT csv -- FF tells Snowflake the \"expected layout\" https://docs.snowflake.com/en/sql-reference/sql/create-file-format#label-create-or-alter-file-format-syntax\n",
    "    TYPE = 'CSV'\n",
    "    COMPRESSION = 'AUTO'  -- Snowflake automatically detects compression (gzip, bzip2, etc.)\n",
    "    FIELD_DELIMITER = ','  -- Specifies comma as the field delimiter\n",
    "    RECORD_DELIMITER = '\\n'  -- Specifies newline as the record delimiter\n",
    "    SKIP_HEADER = 1  -- Skip the first line (common for CSV headers)\n",
    "    FIELD_OPTIONALLY_ENCLOSED_BY = '\\042'  -- Fields are optionally enclosed by double quotes (ASCII code 34)\n",
    "    TRIM_SPACE = FALSE  -- Spaces are not trimmed from fields\n",
    "    ERROR_ON_COLUMN_COUNT_MISMATCH = FALSE  -- Flexible loading - doesn't fail if column counts vary\n",
    "    ESCAPE = 'NONE'  -- No escape character for special character escaping\n",
    "    ESCAPE_UNENCLOSED_FIELD = '\\134'  -- Backslash is the escape character for unenclosed fields\n",
    "    DATE_FORMAT = 'AUTO'  -- Snowflake automatically detects date formats\n",
    "    TIMESTAMP_FORMAT = 'AUTO'  -- Snowflake automatically detects timestamp formats\n",
    "    NULL_IF = ('')  -- Treats empty strings as NULL values\n",
    "    COMMENT = 'File format for ingesting data for zero to snowflake';\n"
   ],
   "id": "ce110000-1111-2222-3333-ffffff000006"
  },
  {
   "cell_type": "code",
   "execution_count": null,
   "metadata": {
    "vscode": {
     "languageId": "sql"
    },
    "name": "StructuredLoading_FileFormat_Query",
    "language": "sql"
   },
   "outputs": [],
   "source": [
    "-- Show all file formats in the current database\n",
    "SHOW FILE FORMATS IN DATABASE cybersyn;"
   ],
   "id": "ce110000-1111-2222-3333-ffffff000007"
  },
  {
   "cell_type": "markdown",
   "metadata": {
    "name": "StructuredLoading_CopyInto_Overview"
   },
   "source": [
    "COPY INTO: Snowflake's primary data loading command"
   ],
   "id": "ce110000-1111-2222-3333-ffffff000008"
  },
  {
   "cell_type": "code",
   "execution_count": null,
   "metadata": {
    "vscode": {
     "languageId": "sql"
    },
    "name": "StructuredLoading_CopyInto_Query",
    "language": "sql"
   },
   "outputs": [],
   "source": [
    "-- This loads data from internal, Snowflake-managed stages, or external stages (S3, Azure, GCS) directly into tables\n",
    "COPY INTO company_metadata FROM @cybersyn_company_metadata \n",
    "    file_format=csv \n",
    "    PATTERN = '.*csv.*'  -- Pattern matching for selective file loading\n",
    "    ON_ERROR = 'CONTINUE';  -- Continue loading even if some records fail\n",
    "    -- https://docs.snowflake.com/en/sql-reference/sql/copy-into-table"
   ],
   "id": "ce110000-1111-2222-3333-ffffff000009"
  },
  {
   "cell_type": "code",
   "execution_count": null,
   "metadata": {
    "vscode": {
     "languageId": "sql"
    },
    "name": "StructuredLoading_CopyInto_Results",
    "language": "sql"
   },
   "outputs": [],
   "source": [
    "SELECT * FROM COMPANY_METADATA;"
   ],
   "id": "ce110000-1111-2222-3333-ffffff000010"
  },
  {
   "cell_type": "markdown",
   "metadata": {
    "vscode": {
     "languageId": "raw"
    },
    "name": "SemiStructured_Overview"
   },
   "source": [
    "## SECTION: SEMI-STRUCTURED DATA\n",
    "### Step 6. Loading Semi-Structured Data into Snowflake: JSONs\n"
   ],
   "id": "ce110000-1111-2222-3333-ffffff000011"
  },
  {
   "cell_type": "code",
   "execution_count": null,
   "metadata": {
    "vscode": {
     "languageId": "sql"
    },
    "name": "SemiStructured_TableSetup",
    "language": "sql"
   },
   "outputs": [],
   "source": [
    "-- Create tables that will hold our semi-structured data. Using VARIANT data type - this allows native JSON querying\n",
    "CREATE TABLE sec_filings_index (v variant);\n",
    "\n",
    "CREATE TABLE sec_filings_attributes (v variant);"
   ],
   "id": "ce110000-1111-2222-3333-ffffff000012"
  },
  {
   "cell_type": "markdown",
   "metadata": {
    "name": "SemiStructured_ExternalStage_Overview"
   },
   "source": [
    "### External Stage\n",
    "- Points to cloud storage (S3, Azure, GCS) without moving data\n",
    "- Snowflake can query data directly from cloud storage or load it into tables"
   ],
   "id": "ce110000-1111-2222-3333-ffffff000013"
  },
  {
   "cell_type": "code",
   "execution_count": null,
   "metadata": {
    "vscode": {
     "languageId": "sql"
    },
    "name": "SemiStructured_ExternalStage_Creation",
    "language": "sql"
   },
   "outputs": [],
   "source": [
    "-- This is the same thing we did before, but with SQL code instead of the UI\n",
    "CREATE STAGE cybersyn_sec_filings\n",
    "url = 's3://sfquickstarts/zero_to_snowflake/cybersyn_cpg_sec_filings/';\n"
   ],
   "id": "ce110000-1111-2222-3333-ffffff000014"
  },
  {
   "cell_type": "code",
   "execution_count": null,
   "metadata": {
    "vscode": {
     "languageId": "sql"
    },
    "name": "SemiStructured_ExternalStage_Query",
    "language": "sql"
   },
   "outputs": [],
   "source": [
    "select $1, $2, $3 from @cybersyn_sec_filings/cybersyn_sec_report_index.json.gz limit 5;"
   ],
   "id": "ce110000-1111-2222-3333-ffffff000015"
  },
  {
   "cell_type": "code",
   "execution_count": null,
   "metadata": {
    "vscode": {
     "languageId": "sql"
    },
    "name": "SemiStructured_CopyInto_Query",
    "language": "sql"
   },
   "outputs": [],
   "source": [
    "-- Loading JSON data - notice the strip_outer_array parameter\n",
    "-- This is useful when JSON files contain arrays at the root level\n",
    "COPY INTO sec_filings_index\n",
    "FROM @cybersyn_sec_filings/cybersyn_sec_report_index.json.gz\n",
    "    file_format = (type = json strip_outer_array = true);\n",
    "\n",
    "COPY INTO sec_filings_attributes -- https://docs.snowflake.com/en/sql-reference/sql/copy-into-table\n",
    "FROM @cybersyn_sec_filings/cybersyn_sec_report_attributes.json.gz\n",
    "    file_format = (type = json strip_outer_array = true);\n"
   ],
   "id": "ce110000-1111-2222-3333-ffffff000016"
  },
  {
   "cell_type": "code",
   "execution_count": null,
   "metadata": {
    "vscode": {
     "languageId": "sql"
    },
    "name": "SemiStructured_CopyInto_Results",
    "language": "sql"
   },
   "outputs": [],
   "source": [
    "SELECT * FROM sec_filings_index LIMIT 10;\n",
    "SELECT * FROM sec_filings_attributes LIMIT 10;\n"
   ],
   "id": "ce110000-1111-2222-3333-ffffff000017"
  },
  {
   "cell_type": "code",
   "execution_count": null,
   "metadata": {
    "vscode": {
     "languageId": "sql"
    },
    "name": "SemiStructured_View_Creation",
    "language": "sql"
   },
   "outputs": [],
   "source": [
    "-- Create structured views over semi-structured data\n",
    "-- Notice the v:FIELD_NAME::datatype syntax - this is Snowflake's JSON path notation. Docs: https://docs.snowflake.com/en/user-guide/querying-semistructured\n",
    "CREATE OR REPLACE VIEW sec_filings_index_view AS -- CREATE VIEW docs: https://docs.snowflake.com/en/sql-reference/sql/create-view\n",
    "SELECT\n",
    "    v:CIK::string                   AS cik,           -- JSON path extraction with type casting\n",
    "    v:COMPANY_NAME::string          AS company_name,  -- :: syntax converts VARIANT to specific types\n",
    "    v:EIN::int                      AS ein,\n",
    "    v:ADSH::string                  AS adsh,\n",
    "    v:TIMESTAMP_ACCEPTED::timestamp AS timestamp_accepted,\n",
    "    v:FILED_DATE::date              AS filed_date,\n",
    "    v:FORM_TYPE::string             AS form_type,\n",
    "    v:FISCAL_PERIOD::string         AS fiscal_period,\n",
    "    v:FISCAL_YEAR::string           AS fiscal_year\n",
    "FROM sec_filings_index;\n"
   ],
   "id": "ce110000-1111-2222-3333-ffffff000018"
  },
  {
   "cell_type": "code",
   "execution_count": null,
   "metadata": {
    "vscode": {
     "languageId": "sql"
    },
    "name": "SemiStructured_View_Creation2",
    "language": "sql"
   },
   "outputs": [],
   "source": [
    "CREATE OR REPLACE VIEW sec_filings_attributes_view AS\n",
    "SELECT\n",
    "    v:VARIABLE::string            AS variable,\n",
    "    v:CIK::string                 AS cik,\n",
    "    v:ADSH::string                AS adsh,\n",
    "    v:MEASURE_DESCRIPTION::string AS measure_description,\n",
    "    v:TAG::string                 AS tag,\n",
    "    v:TAG_VERSION::string         AS tag_version,\n",
    "    v:UNIT_OF_MEASURE::string     AS unit_of_measure,\n",
    "    v:VALUE::string               AS value,\n",
    "    v:REPORT::int                 AS report,\n",
    "    v:STATEMENT::string           AS statement,\n",
    "    v:PERIOD_START_DATE::date     AS period_start_date,\n",
    "    v:PERIOD_END_DATE::date       AS period_end_date,\n",
    "    v:COVERED_QTRS::int           AS covered_qtrs,\n",
    "    TRY_PARSE_JSON(v:METADATA)    AS metadata  -- TRY_PARSE_JSON safely handles malformed JSON\n",
    "FROM sec_filings_attributes;\n"
   ],
   "id": "ce110000-1111-2222-3333-ffffff000019"
  },
  {
   "cell_type": "code",
   "execution_count": null,
   "metadata": {
    "vscode": {
     "languageId": "sql"
    },
    "name": "SemiStructured_View_Results",
    "language": "sql"
   },
   "outputs": [],
   "source": [
    "SELECT *\n",
    "FROM sec_filings_index_view\n",
    "LIMIT 20;\n",
    "\n",
    "SELECT *\n",
    "FROM sec_filings_attributes_view\n",
    "LIMIT 20;\n"
   ],
   "id": "ce110000-1111-2222-3333-ffffff000020"
  },
  {
   "cell_type": "markdown",
   "metadata": {
    "vscode": {
     "languageId": "raw"
    },
    "name": "Marketplace_Overview"
   },
   "source": [
    "## SECTION: MARKETPLACE DATA\n",
    "### Step 7. Getting Data from Snowflake Marketplace\n",
    "\n",
    "Snowflake Marketplace allows access to third-party data without ETL. Data providers share live, always-fresh data that appears as databases in your account.\n",
    "\n",
    "It's likely that an Analyst persona would not have the privileges necessary to complete this portion\n",
    "\n",
    "To access the listing we will access, you can click on the Marketplace listing link: [Snowflake Public Data Products - Finance Economics](https://app.snowflake.com/marketplace/listing/GZTSZAS2KF7/snowflake-public-data-products-finance-economics)\n",
    "\n",
    "or \n",
    "\n",
    "Navigate to the Snowflake Marketplace (Data Products > Marketplace) and search for 'snowflake economics'. If you have the appropriate permissions, you will see the \"Get\" button highlighted in blue. \n",
    "\n",
    "Click \"Get\", then in the options panel, name the database \"Financial__Economic_Essentials\".\n"
   ],
   "id": "ce110000-1111-2222-3333-ffffff000021"
  },
  {
   "cell_type": "markdown",
   "metadata": {
    "vscode": {
     "languageId": "raw"
    },
    "name": "QueryCaching_Overview"
   },
   "source": [
    "## SECTION: QUERYING AND CACHING\n",
    "### Step 8. Querying, the Results Cache, & Cloning\n"
   ],
   "id": "ce110000-1111-2222-3333-ffffff000022"
  },
  {
   "cell_type": "code",
   "execution_count": null,
   "metadata": {
    "vscode": {
     "languageId": "sql"
    },
    "name": "QueryCaching_Table_Results",
    "language": "sql"
   },
   "outputs": [],
   "source": [
    "-- Simple query to show table contents\n",
    "SELECT * FROM company_metadata;"
   ],
   "id": "ce110000-1111-2222-3333-ffffff000023"
  },
  {
   "cell_type": "code",
   "execution_count": null,
   "metadata": {
    "vscode": {
     "languageId": "sql"
    },
    "name": "QueryCaching_Complex_Query",
    "language": "sql"
   },
   "outputs": [],
   "source": [
    "-- Complex analytical query demonstrating window functions and joins\n",
    "SELECT -- The daily return of a stock (the percent change in the stock price from the close of the previous day to the close of the current day) and 5-day moving average from closing prices\n",
    "    meta.primary_ticker,\n",
    "    meta.company_name,\n",
    "    ts.date,\n",
    "    ts.value AS post_market_close,\n",
    "    -- LAG function: Access previous row's value within a partition\n",
    "    (ts.value / LAG(ts.value, 1) OVER (PARTITION BY meta.primary_ticker ORDER BY ts.date))::DOUBLE AS daily_return,\n",
    "    -- Moving average using window frame: ROWS BETWEEN gives precise control over window bounds\n",
    "    AVG(ts.value) OVER (PARTITION BY meta.primary_ticker ORDER BY ts.date ROWS BETWEEN 4 PRECEDING AND CURRENT ROW) AS five_day_moving_avg_price\n",
    "FROM Financial__Economic_Essentials.cybersyn.stock_price_timeseries ts  -- Marketplace data access\n",
    "INNER JOIN company_metadata meta\n",
    "ON ts.ticker = meta.primary_ticker\n",
    "WHERE ts.variable_name = 'Post-Market Close';\n"
   ],
   "id": "ce110000-1111-2222-3333-ffffff000024"
  },
  {
   "cell_type": "markdown",
   "metadata": {
    "vscode": {
     "languageId": "raw"
    },
    "name": "AISQL_Overview"
   },
   "source": [
    "### Enhanced AI SQL Functions Demo\n",
    "Demonstrating Snowflake's new AI-powered SQL functions for intelligent data analysis. See [AISQL documentation](https://docs.snowflake.com/en/user-guide/snowflake-cortex/aisql)\n"
   ],
   "id": "ce110000-1111-2222-3333-ffffff000025"
  },
  {
   "cell_type": "code",
   "id": "ce110000-1111-2222-3333-ffffff000026",
   "metadata": {
    "language": "sql",
    "name": "AISQL_Agg_Query"
   },
   "outputs": [],
   "source": "-- AI_AGG can look across all records and synthesize information. See AI_AGG documentation https://docs.snowflake.com/en/sql-reference/functions/ai_agg\nSELECT ai_agg(companies.company_name, 'Give me a breakdown of the industries represented by this list of companies: {0}') as industries_breakdown\nFROM \n(\nSELECT DISTINCT meta.company_name\nFROM company_metadata meta\n) companies; ",
   "execution_count": null
  },
  {
   "cell_type": "markdown",
   "metadata": {
    "vscode": {
     "languageId": "raw"
    },
    "name": "ResultsCache_Overview"
   },
   "source": [
    "## Results Cache"
   ],
   "id": "ce110000-1111-2222-3333-ffffff000027"
  },
  {
   "cell_type": "code",
   "id": "ce110000-1111-2222-3333-ffffff000028",
   "metadata": {
    "language": "sql",
    "name": "ResultsCache_Testing"
   },
   "outputs": [],
   "source": [
    "-- Run this query twice to demonstrate Snowflake's automatic result caching\n",
    "-- First run uses compute warehouse, second run returns cached results instantly (24-hour cache)\n",
    "SELECT -- Trading volume change from one day to the next. Results cache https://docs.snowflake.com/en/user-guide/querying-persisted-results\n",
    "    meta.primary_ticker,\n",
    "    meta.company_name,\n",
    "    ts.date,\n",
    "    ts.value AS nasdaq_volume,\n",
    "    (ts.value / LAG(ts.value, 1) OVER (PARTITION BY meta.primary_ticker ORDER BY ts.date))::DOUBLE AS volume_change\n",
    "FROM Financial__Economic_Essentials.cybersyn.stock_price_timeseries ts\n",
    "INNER JOIN company_metadata meta\n",
    "ON ts.ticker = meta.primary_ticker\n",
    "WHERE ts.variable_name = 'Nasdaq Volume';"
   ],
   "execution_count": null
  },
  {
   "cell_type": "markdown",
   "metadata": {
    "name": "ZeroCopy_Overview"
   },
   "source": [
    "### Zero-Copy Cloning: Instantly create a copy without duplicating data"
   ],
   "id": "ce110000-1111-2222-3333-ffffff000029"
  },
  {
   "cell_type": "code",
   "execution_count": null,
   "metadata": {
    "vscode": {
     "languageId": "sql"
    },
    "name": "ZeroCopy_TableSetup",
    "language": "sql"
   },
   "outputs": [],
   "source": [
    "-- This is a unique Snowflake feature - clones share underlying data until modified\n",
    "CREATE TABLE company_metadata_dev CLONE company_metadata; -- https://docs.snowflake.com/en/user-guide/tables-storage-considerations#label-cloning-tables\n",
    "-- Use case: Create dev/test environments, data science experimentation, backup before changes\n"
   ],
   "id": "ce110000-1111-2222-3333-ffffff000030"
  },
  {
   "cell_type": "code",
   "execution_count": null,
   "metadata": {
    "vscode": {
     "languageId": "sql"
    },
    "name": "ZeroCopy_Joining",
    "language": "sql"
   },
   "outputs": [],
   "source": [
    "-- Complex query with CTE (Common Table Expression) and advanced window functions\n",
    "-- Joining tables/views\n",
    "WITH data_prep AS (\n",
    "    SELECT \n",
    "        idx.cik,\n",
    "        idx.company_name,\n",
    "        idx.adsh,\n",
    "        idx.form_type,\n",
    "        att.measure_description,\n",
    "        CAST(att.value AS DOUBLE) AS value,\n",
    "        att.period_start_date,\n",
    "        att.period_end_date,\n",
    "        att.covered_qtrs,\n",
    "        TRIM(att.metadata:\"ProductOrService\"::STRING) AS product  -- JSON notation for nested objects\n",
    "    FROM sec_filings_attributes_view att\n",
    "    JOIN sec_filings_index_view idx\n",
    "        ON idx.cik = att.cik AND idx.adsh = att.adsh\n",
    "    WHERE idx.cik = '0001637459'\n",
    "        AND idx.form_type IN ('10-K', '10-Q')\n",
    "        AND LOWER(att.measure_description) = 'net sales'\n",
    "        AND (att.metadata IS NULL OR OBJECT_KEYS(att.metadata) = ARRAY_CONSTRUCT('ProductOrService')) -- OBJECT_KEYS: Get JSON object keys\n",
    "        AND att.covered_qtrs IN (1, 4)\n",
    "        AND value > 0\n",
    "    QUALIFY ROW_NUMBER() OVER (  -- QUALIFY: Filter after window functions (like HAVING for window functions)\n",
    "        PARTITION BY idx.cik, idx.company_name, att.measure_description, att.period_start_date, att.period_end_date, att.covered_qtrs, product\n",
    "        ORDER BY idx.filed_date DESC\n",
    "    ) = 1\n",
    ")\n",
    "SELECT\n",
    "    company_name,\n",
    "    measure_description,\n",
    "    product,\n",
    "    period_end_date,\n",
    "    CASE\n",
    "        WHEN covered_qtrs = 1 THEN value\n",
    "        WHEN covered_qtrs = 4 THEN value - SUM(value) OVER (\n",
    "            PARTITION BY cik, measure_description, product, YEAR(period_end_date)\n",
    "            ORDER BY period_end_date\n",
    "            ROWS BETWEEN 4 PRECEDING AND 1 PRECEDING\n",
    "        )\n",
    "    END AS quarterly_value\n",
    "FROM data_prep\n",
    "ORDER BY product, period_end_date;\n"
   ],
   "id": "ce110000-1111-2222-3333-ffffff000031"
  },
  {
   "cell_type": "markdown",
   "metadata": {
    "vscode": {
     "languageId": "raw"
    },
    "name": "TimeTravel_Overview"
   },
   "source": [
    "## SECTION: TIME TRAVEL\n",
    "### Step 9. Using Time Travel\n",
    "\n",
    "[Time travel documentation](https://docs.snowflake.com/en/user-guide/data-time-travel)\n",
    "\n",
    "Time Travel: Unique Snowflake feature allowing access to historical data states\n"
   ],
   "id": "ce110000-1111-2222-3333-ffffff000032"
  },
  {
   "cell_type": "code",
   "execution_count": 1,
   "metadata": {
    "vscode": {
     "languageId": "sql"
    },
    "name": "TimeTravel_TableDrop",
    "language": "sql"
   },
   "outputs": [
    {
     "ename": "SyntaxError",
     "evalue": "invalid syntax (3569813958.py, line 1)",
     "output_type": "error",
     "traceback": [
      "\u001b[0;36m  Cell \u001b[0;32mIn[1], line 1\u001b[0;36m\u001b[0m\n\u001b[0;31m    -- Simulate accidental table drop\u001b[0m\n\u001b[0m                ^\u001b[0m\n\u001b[0;31mSyntaxError\u001b[0m\u001b[0;31m:\u001b[0m invalid syntax\n"
     ]
    }
   ],
   "source": [
    "-- Simulate accidental table drop\n",
    "DROP TABLE sec_filings_index;\n"
   ],
   "id": "ce110000-1111-2222-3333-ffffff000033"
  },
  {
   "cell_type": "code",
   "execution_count": 3,
   "metadata": {
    "vscode": {
     "languageId": "sql"
    },
    "name": "TimeTravel_DropConfirm",
    "language": "sql"
   },
   "outputs": [
    {
     "ename": "SyntaxError",
     "evalue": "unterminated string literal (detected at line 1) (795861014.py, line 1)",
     "output_type": "error",
     "traceback": [
      "\u001b[0;36m  Cell \u001b[0;32mIn[3], line 1\u001b[0;36m\u001b[0m\n\u001b[0;31m    -- Prove that it's gone\u001b[0m\n\u001b[0m                    ^\u001b[0m\n\u001b[0;31mSyntaxError\u001b[0m\u001b[0;31m:\u001b[0m unterminated string literal (detected at line 1)\n"
     ]
    }
   ],
   "source": [
    "-- Prove that it's gone\n",
    "SELECT * FROM sec_filings_index LIMIT 10;\n"
   ],
   "id": "ce110000-1111-2222-3333-ffffff000034"
  },
  {
   "cell_type": "code",
   "execution_count": null,
   "metadata": {
    "vscode": {
     "languageId": "sql"
    },
    "name": "TimeTravel_Undrop",
    "language": "sql"
   },
   "outputs": [],
   "source": [
    "-- UNDROP: Restore dropped objects (works for tables, schemas, databases)\n",
    "-- This uses Snowflake's Time Travel feature under the hood\n",
    "UNDROP TABLE sec_filings_index;\n"
   ],
   "id": "ce110000-1111-2222-3333-ffffff000035"
  },
  {
   "cell_type": "code",
   "execution_count": null,
   "metadata": {
    "vscode": {
     "languageId": "sql"
    },
    "name": "TimeDravel_UndropConfirmation",
    "language": "sql"
   },
   "outputs": [],
   "source": [
    "-- Prove that it's back\n",
    "SELECT * FROM sec_filings_index LIMIT 10;\n"
   ],
   "id": "ce110000-1111-2222-3333-ffffff000036"
  },
  {
   "cell_type": "code",
   "execution_count": null,
   "metadata": {
    "vscode": {
     "languageId": "sql"
    },
    "name": "TimeTravel_Rollback",
    "language": "sql"
   },
   "outputs": [],
   "source": [
    "-- Demonstrate ability to roll back to previous state\n",
    "UPDATE company_metadata SET company_name = 'oops';\n"
   ],
   "id": "ce110000-1111-2222-3333-ffffff000037"
  },
  {
   "cell_type": "code",
   "id": "f501150c-8e4e-4b12-b17a-9b672d4a106a",
   "metadata": {
    "language": "sql",
    "name": "TimeTravel_confirmUpdate"
   },
   "outputs": [],
   "source": "select * from company_metadata;",
   "execution_count": null
  },
  {
   "cell_type": "code",
   "execution_count": null,
   "metadata": {
    "vscode": {
     "languageId": "sql"
    },
    "name": "TimeTravel_QueryId_Isolation",
    "language": "sql"
   },
   "outputs": [],
   "source": "-- Capture the query ID of the UPDATE statement for Time Travel reference\nSET query_id = (\n  SELECT query_id\n  FROM TABLE(information_schema.query_history_by_session(result_limit=>20))\n  WHERE query_text LIKE 'UPDATE%'\n  ORDER BY start_time DESC\n  LIMIT 1\n);\n",
   "id": "ce110000-1111-2222-3333-ffffff000038"
  },
  {
   "cell_type": "code",
   "id": "16d33d05-a7ff-4128-b363-1962d93e6d00",
   "metadata": {
    "language": "sql",
    "name": "TimeTravel_ConfirmQueryId"
   },
   "outputs": [],
   "source": "SELECT $query_id;",
   "execution_count": null
  },
  {
   "cell_type": "markdown",
   "metadata": {
    "name": "TimeTravel_BeforeOverview"
   },
   "source": [
    "Restore table to state BEFORE a specific statement. This recreates the table with data from before the UPDATE operation. [Documentation](https://docs.snowflake.com/en/sql-reference/constructs/at-before)"
   ],
   "id": "ce110000-1111-2222-3333-ffffff000039"
  },
  {
   "cell_type": "code",
   "execution_count": null,
   "metadata": {
    "vscode": {
     "languageId": "sql"
    },
    "name": "TimeTravel_BeforeKeyword_Query",
    "language": "sql"
   },
   "outputs": [],
   "source": [
    "-- Time Travel: Restore table to state BEFORE a specific statement\n",
    "-- This recreates the table with data from before the UPDATE operation\n",
    "CREATE OR REPLACE TABLE company_metadata AS\n",
    "SELECT *\n",
    "FROM company_metadata\n",
    "BEFORE (STATEMENT => $query_id);        -- BEFORE clause: Access historical data states\n",
    "-- Alternative syntax: AT(TIMESTAMP => '2023-01-01 12:00:00'::timestamp)\n"
   ],
   "id": "ce110000-1111-2222-3333-ffffff000040"
  },
  {
   "cell_type": "code",
   "execution_count": null,
   "metadata": {
    "vscode": {
     "languageId": "sql"
    },
    "name": "TimeTravel_Results_Confirmation",
    "language": "sql"
   },
   "outputs": [],
   "source": [
    "-- Verify the company names have been restored\n",
    "SELECT * FROM company_metadata;"
   ],
   "id": "ce110000-1111-2222-3333-ffffff000041"
  },
  {
   "cell_type": "markdown",
   "metadata": {
    "vscode": {
     "languageId": "raw"
    },
    "name": "SecurityRole_Overview"
   },
   "source": [
    "## SECTION: SECURITY AND ROLES\n",
    "### Step 10. Working with Roles, Account Admin, & Account Usage\n",
    "\n",
    "It's likely that an Analyst persona would not have the privileges necessary to execute the below code. The code is given for demonstration purposes only.\n",
    "\n",
    "Admins can visualize roles in Admin -> Users & Roles -> Roles -> Graph\n"
   ],
   "id": "ce110000-1111-2222-3333-ffffff000042"
  },
  {
   "cell_type": "code",
   "id": "82aceb92-175c-4f15-a034-c76286e21acf",
   "metadata": {
    "language": "sql",
    "name": "SecurityRole_SetAccountAdmin"
   },
   "outputs": [],
   "source": "USE ROLE ACCOUNTADMIN;",
   "execution_count": null
  },
  {
   "cell_type": "code",
   "execution_count": null,
   "metadata": {
    "vscode": {
     "languageId": "sql"
    },
    "name": "SecurityRole_RoleCreation",
    "language": "sql"
   },
   "outputs": [],
   "source": "-- Create a new role - roles are containers for privileges\nCREATE ROLE junior_dba;",
   "id": "ce110000-1111-2222-3333-ffffff000044"
  },
  {
   "cell_type": "code",
   "execution_count": null,
   "metadata": {
    "vscode": {
     "languageId": "sql"
    },
    "name": "SecurityRole_RoleAssignment",
    "language": "sql"
   },
   "outputs": [],
   "source": "-- Grant role to user - users can have multiple roles\nGRANT ROLE junior_dba TO USER TOSMITH;",
   "id": "ce110000-1111-2222-3333-ffffff000045"
  },
  {
   "cell_type": "code",
   "id": "ebeb5249-9554-432f-b225-ba3cb25bfdf4",
   "metadata": {
    "language": "sql",
    "name": "SecurityRole_DisableSecondary"
   },
   "outputs": [],
   "source": "USE SECONDARY ROLES NONE;",
   "execution_count": null
  },
  {
   "cell_type": "code",
   "id": "afde1d1c-55ab-44f1-945b-98383686cc85",
   "metadata": {
    "language": "sql",
    "name": "SecurityRole_SetJuniorDBA"
   },
   "outputs": [],
   "source": "USE ROLE JUNIOR_DBA;",
   "execution_count": null
  },
  {
   "cell_type": "code",
   "execution_count": null,
   "metadata": {
    "vscode": {
     "languageId": "sql"
    },
    "name": "SecurityRole_PermissionsTest",
    "language": "sql"
   },
   "outputs": [],
   "source": "SELECT * FROM z2s.public.COMPANY_METADATA;  -- This will fail - no access",
   "id": "ce110000-1111-2222-3333-ffffff000046"
  },
  {
   "cell_type": "code",
   "execution_count": null,
   "metadata": {
    "vscode": {
     "languageId": "sql"
    },
    "name": "SecurityRole_WarehouseGrant",
    "language": "sql"
   },
   "outputs": [],
   "source": [
    "-- Grant warehouse usage to the role\n",
    "USE ROLE accountadmin;\n",
    "GRANT USAGE ON WAREHOUSE compute_wh TO ROLE junior_dba;\n"
   ],
   "id": "ce110000-1111-2222-3333-ffffff000047"
  },
  {
   "cell_type": "code",
   "execution_count": null,
   "metadata": {
    "vscode": {
     "languageId": "sql"
    },
    "name": "SecurityRole_ContextSet",
    "language": "sql"
   },
   "outputs": [],
   "source": [
    "-- Now the junior_dba role can use the warehouse\n",
    "USE ROLE junior_dba;\n",
    "USE WAREHOUSE compute_wh;\n"
   ],
   "id": "ce110000-1111-2222-3333-ffffff000048"
  },
  {
   "cell_type": "markdown",
   "metadata": {
    "vscode": {
     "languageId": "raw"
    },
    "name": "DataShare_Overview"
   },
   "source": [
    "## SECTION: DATA SHARING\n",
    "### Step 11. Sharing Data Securely via Snowflake Marketplace\n",
    "\n",
    "It's likely that an Analyst persona would not have the privileges necessary to create a share. The code is given for demonstration purposes only.\n",
    "\n",
    "Data Sharing: Unique Snowflake feature allowing secure data sharing without data movement. Shared data is live and always current - no ETL needed.\n",
    "\n",
    "Navigate to \"Data Products\" then \"Private Sharing\" then \"Create a Direct Share\". Must be ACCOUNTADMIN or have sharing privileges\n"
   ],
   "id": "ce110000-1111-2222-3333-ffffff000049"
  },
  {
   "cell_type": "markdown",
   "metadata": {
    "vscode": {
     "languageId": "raw"
    },
    "name": "Cleanup_Overview"
   },
   "source": [
    "## SECTION: CLEANUP\n",
    "### Step 12. Resetting Your Snowflake Environment\n"
   ],
   "id": "ce110000-1111-2222-3333-ffffff000050"
  },
  {
   "cell_type": "code",
   "execution_count": null,
   "metadata": {
    "vscode": {
     "languageId": "sql"
    },
    "name": "Cleanup_Execution",
    "language": "sql"
   },
   "outputs": [],
   "source": "-- USE ROLE accountadmin;\n\n-- DROP DATABASE IF EXISTS CYBERSYN;\n\n-- DROP WAREHOUSE IF EXISTS analytics_wh;\n\n-- DROP ROLE IF EXISTS junior_dba;\n",
   "id": "ce110000-1111-2222-3333-ffffff000051"
  }
 ]
}
